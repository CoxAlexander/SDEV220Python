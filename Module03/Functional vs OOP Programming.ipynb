{
 "cells": [
  {
   "cell_type": "markdown",
   "metadata": {},
   "source": [
    "## Sort 0s, 1s and 2s"
   ]
  },
  {
   "cell_type": "code",
   "execution_count": 72,
   "metadata": {},
   "outputs": [
    {
     "name": "stdout",
     "output_type": "stream",
     "text": [
      "Sorted List [0, 0, 1, 1, 2, 2]\n",
      "Sorted List [0, 0, 0, 0, 0, 1, 1, 1, 1, 1, 2, 2]\n"
     ]
    }
   ],
   "source": [
    "class Solution:\n",
    "    def __init__(self,arr):\n",
    "        self.arr = arr\n",
    "    def sort012(self):\n",
    "        for i in range(0, len(self.arr)):\n",
    "            for j in range(i+1, len(self.arr)):\n",
    "                if self.arr[i] >= self.arr[j]:\n",
    "                    temp = self.arr[i]\n",
    "                    self.arr[i] = self.arr[j]\n",
    "                    self.arr[j] = temp\n",
    "        \n",
    "        print(\"Sorted List\", self.arr)\n",
    "num = Solution(arr=[0,1,2,0,1,2])\n",
    "num2 = Solution(arr=[0,1,1,0,1,2,1,2,0,0,0,1])\n",
    "num.sort012()\n",
    "num2.sort012()\n"
   ]
  },
  {
   "cell_type": "markdown",
   "metadata": {},
   "source": [
    "## Binary Search"
   ]
  },
  {
   "cell_type": "code",
   "execution_count": 86,
   "metadata": {},
   "outputs": [
    {
     "name": "stdout",
     "output_type": "stream",
     "text": [
      "3\n",
      "-1\n",
      "0\n"
     ]
    }
   ],
   "source": [
    "class Solution:\n",
    "    def __init__(self, arr, k):\n",
    "         self.target = k\n",
    "         self.arr = arr\n",
    "    def binarysearch(self):\n",
    "        counter = 0\n",
    "        found = False\n",
    "        for num in self.arr:\n",
    "            if num == self.target:\n",
    "                found = True\n",
    "                break\n",
    "            counter +=1\n",
    "        if found:\n",
    "            return counter\n",
    "        else:\n",
    "            return -1\n",
    "num = Solution(arr=[1,2,3,4,5],k=4)\n",
    "num2 = Solution(arr=[11,22,33,44,55],k=445)\n",
    "num3 = Solution(arr=[1,1,1,1,2], k = 1)\n",
    "print(num.binarysearch())\n",
    "print(num2.binarysearch())\n",
    "print(num3.binarysearch())"
   ]
  }
 ],
 "metadata": {
  "kernelspec": {
   "display_name": "Python 3",
   "language": "python",
   "name": "python3"
  },
  "language_info": {
   "codemirror_mode": {
    "name": "ipython",
    "version": 3
   },
   "file_extension": ".py",
   "mimetype": "text/x-python",
   "name": "python",
   "nbconvert_exporter": "python",
   "pygments_lexer": "ipython3",
   "version": "3.13.1"
  }
 },
 "nbformat": 4,
 "nbformat_minor": 2
}
