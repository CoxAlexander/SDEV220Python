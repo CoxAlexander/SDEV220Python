{
 "cells": [
  {
   "cell_type": "markdown",
   "metadata": {},
   "source": [
    "## 13.1 - Write the current date"
   ]
  },
  {
   "cell_type": "code",
   "execution_count": 2,
   "metadata": {},
   "outputs": [
    {
     "name": "stdout",
     "output_type": "stream",
     "text": [
      "2025-02-20 16:32:31.028741\n"
     ]
    }
   ],
   "source": [
    "import datetime\n",
    "with open(\"today.txt\", \"a\") as f:\n",
    "    time_now: datetime = datetime.datetime.now()\n",
    "    f.write(str(time_now))\n",
    "f.close()\n",
    "str_time_now: str = str(time_now)\n",
    "print(str_time_now)"
   ]
  },
  {
   "cell_type": "markdown",
   "metadata": {},
   "source": [
    "## 13.2 - Read current date"
   ]
  },
  {
   "cell_type": "code",
   "execution_count": 6,
   "metadata": {},
   "outputs": [
    {
     "name": "stdout",
     "output_type": "stream",
     "text": [
      "2025-02-20 16:32:31.028741\n"
     ]
    }
   ],
   "source": [
    "with open(\"today.txt\", \"a\") as f:\n",
    "    f = open(\"today.txt\", \"r\")\n",
    "today_string = f.read()\n",
    "print(today_string)"
   ]
  },
  {
   "cell_type": "markdown",
   "metadata": {},
   "source": [
    "## 13.3 parse from the today_string"
   ]
  },
  {
   "cell_type": "code",
   "execution_count": 7,
   "metadata": {},
   "outputs": [
    {
     "name": "stdout",
     "output_type": "stream",
     "text": [
      "Year:2025 Month: 02 Day: 20 Hour: 16 Minute: 32 Second: 31 Milisecond: 028741\n"
     ]
    }
   ],
   "source": [
    "import re\n",
    "\n",
    "#2025-02-17 19:41:52.523065\n",
    "hour: int = 0\n",
    "minute: int = 0\n",
    "second: int = 0\n",
    "year: int = 0\n",
    "month: int = 0\n",
    "day: int = 0\n",
    "milliseconds: int = 0\n",
    "\n",
    "re_matches  = re.match(r'^(\\d{4})\\-(\\d{2})\\-(\\d{2}) (\\d{2})\\:(\\d{2})\\:(\\d{2})\\.(\\d+)$', today_string)\n",
    "matches: tuple = re_matches.groups()\n",
    "year = matches[0]\n",
    "month = matches[1]\n",
    "day = matches[2]\n",
    "hour = matches[3]\n",
    "minute = matches[4]\n",
    "second = matches[5]\n",
    "milliseconds = matches[6]\n",
    "print(f\"Year:{year} Month: {month} Day: {day} Hour: {hour} Minute: {minute} Second: {second} Milisecond: {milliseconds}\")"
   ]
  },
  {
   "cell_type": "markdown",
   "metadata": {},
   "source": [
    "## 15.1 Multiprocessing"
   ]
  },
  {
   "cell_type": "code",
   "execution_count": null,
   "metadata": {},
   "outputs": [
    {
     "name": "stdout",
     "output_type": "stream",
     "text": [
      "0.18622156444856552\n",
      "2025-02-19 19:18:21.417952\n",
      "0.817493410254631\n",
      "2025-02-19 19:18:22.424380\n",
      "0.7659085138956462\n",
      "2025-02-19 19:18:23.376128\n"
     ]
    }
   ],
   "source": [
    "#doesn't work because in notebook, look at 15.1.py\n",
    "\n",
    "import multiprocessing as mp\n",
    "import random\n",
    "from datetime import datetime\n",
    "from time import sleep\n",
    "from os import getpid\n",
    "\n",
    "def mp_demo(proc_num):\n",
    "    print(\"process id:\",getpid(), \". Proc num\" , proc_num)\n",
    "    \n",
    "    \n",
    "if __name__ == \"__main__\":\n",
    "    for i in range(0,3):\n",
    "        num_seconds = random.random()\n",
    "        print(num_seconds)\n",
    "        p = mp.Process(target=mp_demo, args=(i,))\n",
    "        p.start()\n",
    "        p.join()\n",
    "        sleep(num_seconds)\n",
    "        print(datetime.now())"
   ]
  }
 ],
 "metadata": {
  "kernelspec": {
   "display_name": "Python 3",
   "language": "python",
   "name": "python3"
  },
  "language_info": {
   "codemirror_mode": {
    "name": "ipython",
    "version": 3
   },
   "file_extension": ".py",
   "mimetype": "text/x-python",
   "name": "python",
   "nbconvert_exporter": "python",
   "pygments_lexer": "ipython3",
   "version": "3.13.2"
  }
 },
 "nbformat": 4,
 "nbformat_minor": 2
}
