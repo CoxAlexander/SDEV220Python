{
 "cells": [
  {
   "cell_type": "markdown",
   "metadata": {},
   "source": [
    "# Module 2 Programming Assignment - Loops and Conditionals "
   ]
  },
  {
   "cell_type": "markdown",
   "metadata": {},
   "source": [
    "## 4.1 - Guess the Number"
   ]
  },
  {
   "cell_type": "code",
   "execution_count": 3,
   "metadata": {},
   "outputs": [
    {
     "name": "stdout",
     "output_type": "stream",
     "text": [
      "too low\n"
     ]
    }
   ],
   "source": [
    "secret: int = 3\n",
    "guess: int = 2\n",
    "\n",
    "if (secret == guess):\n",
    "    print('just right')\n",
    "elif (secret > guess):\n",
    "    print('too low')\n",
    "elif (secret<guess):\n",
    "        print('too high')"
   ]
  },
  {
   "cell_type": "code",
   "execution_count": 1,
   "metadata": {},
   "outputs": [
    {
     "name": "stdout",
     "output_type": "stream",
     "text": [
      "too high\n",
      "too high\n",
      "too high\n",
      "You guessed it\n"
     ]
    }
   ],
   "source": [
    "secret: int = 3\n",
    "guess: int = input(\"Enter a number between 1- 10:\")\n",
    "if str.isnumeric(guess):\n",
    "    guess = int(guess)\n",
    "while(guess != secret):\n",
    "    guess: int = input(\"Enter a number between 1- 10:\")\n",
    "    if str.isnumeric(guess):\n",
    "        guess = int(guess)\n",
    "        if( guess>secret):\n",
    "            print(\"too high\")\n",
    "        elif (guess<secret):\n",
    "            print(\"too low\")\n",
    "        \n",
    "print(\"You guessed it\")\n",
    "   \n",
    "    "
   ]
  },
  {
   "cell_type": "markdown",
   "metadata": {},
   "source": [
    "## 4.2 - If We Match"
   ]
  },
  {
   "cell_type": "code",
   "execution_count": 5,
   "metadata": {},
   "outputs": [
    {
     "name": "stdout",
     "output_type": "stream",
     "text": [
      "Pea\n"
     ]
    }
   ],
   "source": [
    "small: bool = True\n",
    "green: bool = True\n",
    "\n",
    "if (small):\n",
    "    if(green):\n",
    "        print(\"Pea\")\n",
    "    else:\n",
    "        print(\"Cherry\")\n",
    "else:\n",
    "    if(green):\n",
    "        print(\"watermelon\")\n",
    "    else:\n",
    "        print(\"Pumpkin\")\n",
    "    "
   ]
  },
  {
   "cell_type": "markdown",
   "metadata": {},
   "source": [
    "## 6.1 For Loop"
   ]
  },
  {
   "cell_type": "code",
   "execution_count": 3,
   "metadata": {},
   "outputs": [
    {
     "name": "stdout",
     "output_type": "stream",
     "text": [
      "3\n",
      "2\n",
      "1\n",
      "0\n"
     ]
    }
   ],
   "source": [
    "numlist = [3,2,1,0]\n",
    "for x in numlist:\n",
    "    print(x)\n",
    "    "
   ]
  },
  {
   "cell_type": "markdown",
   "metadata": {},
   "source": [
    "## 6.2 Guess Game"
   ]
  },
  {
   "cell_type": "code",
   "execution_count": 5,
   "metadata": {},
   "outputs": [
    {
     "name": "stdout",
     "output_type": "stream",
     "text": [
      "too low\n",
      "too low\n",
      "too low\n",
      "too low\n",
      "too low\n",
      "too low\n",
      "found it\n"
     ]
    }
   ],
   "source": [
    "guess_me = 7\n",
    "number = 1\n",
    "\n",
    "while (number<=guess_me):\n",
    "    if number<guess_me:\n",
    "        print(\"too low\")\n",
    "    elif guess_me == guess_me:\n",
    "        print(\"found it\")\n",
    "    else:\n",
    "        print(\"oops\")\n",
    "    number +=1"
   ]
  },
  {
   "cell_type": "markdown",
   "metadata": {},
   "source": [
    "## 6.3 for loop 2"
   ]
  },
  {
   "cell_type": "code",
   "execution_count": 8,
   "metadata": {},
   "outputs": [
    {
     "name": "stdout",
     "output_type": "stream",
     "text": [
      "too low\n",
      "too low\n",
      "too low\n",
      "too low\n",
      "found it\n"
     ]
    }
   ],
   "source": [
    "guess_me = 5\n",
    "\n",
    "for number in range(1,10):\n",
    "    if number < guess_me:\n",
    "        print(\"too low\")\n",
    "    elif (number == guess_me):\n",
    "        print(\"found it\")\n",
    "        break\n",
    "    else:\n",
    "        print(\"oops\")\n",
    "    "
   ]
  }
 ],
 "metadata": {
  "kernelspec": {
   "display_name": "Python 3",
   "language": "python",
   "name": "python3"
  },
  "language_info": {
   "codemirror_mode": {
    "name": "ipython",
    "version": 3
   },
   "file_extension": ".py",
   "mimetype": "text/x-python",
   "name": "python",
   "nbconvert_exporter": "python",
   "pygments_lexer": "ipython3",
   "version": "3.13.1"
  }
 },
 "nbformat": 4,
 "nbformat_minor": 2
}
